{
 "cells": [
  {
   "cell_type": "markdown",
   "id": "091311d9",
   "metadata": {
    "papermill": {
     "duration": 0.015303,
     "end_time": "2022-05-05T17:54:07.619960",
     "exception": false,
     "start_time": "2022-05-05T17:54:07.604657",
     "status": "completed"
    },
    "tags": []
   },
   "source": [
    "# Welcome to Computer Vision! #\n",
    "\n",
    "Have you ever wanted to teach a computer to see? In this course, that's exactly what you'll do!\n",
    "\n",
    "In this course, you'll:\n",
    "- Use modern deep-learning networks to build an **image classifier** with Keras\n",
    "- Design your own **custom convnet** with reusable blocks\n",
    "- Learn the fundamental ideas behind visual **feature extraction**\n",
    "- Master the art of **transfer learning** to boost your models\n",
    "- Utilize **data augmentation** to extend your dataset\n",
    "\n",
    "If you've taken the *Introduction to Deep Learning* course, you'll know everything you need to be successful.\n",
    "\n",
    "Now let's get started!"
   ]
  },
  {
   "cell_type": "markdown",
   "id": "117da589",
   "metadata": {
    "papermill": {
     "duration": 0.011645,
     "end_time": "2022-05-05T17:54:07.643524",
     "exception": false,
     "start_time": "2022-05-05T17:54:07.631879",
     "status": "completed"
    },
    "tags": []
   },
   "source": [
    "# Introduction #\n",
    "\n",
    "This course will introduce you to the fundamental ideas of computer vision. Our goal is to learn how a neural network can \"understand\" a natural image well-enough to solve the same kinds of problems the human visual system can solve.\n",
    "\n",
    "The neural networks that are best at this task are called **convolutional neural networks** (Sometimes we say **convnet** or **CNN** instead.) Convolution is the mathematical operation that gives the layers of a convnet their unique structure. In future lessons, you'll learn why this structure is so effective at solving computer vision problems.\n",
    "\n",
    "We will apply these ideas to the problem of **image classification**: given a picture, can we train a computer to tell us what it's a picture *of*? You may have seen [apps](https://identify.plantnet.org/) that can identify a species of plant from a photograph. That's an image classifier! In this course, you'll learn how to build image classifiers just as powerful as those used in professional applications.\n",
    "\n",
    "While our focus will be on image classification, what you'll learn in this course is relevant to every kind of computer vision problem. At the end, you'll be ready to move on to more advanced applications like generative adversarial networks and image segmentation."
   ]
  },
  {
   "cell_type": "markdown",
   "id": "eafe4ea8",
   "metadata": {
    "papermill": {
     "duration": 0.011493,
     "end_time": "2022-05-05T17:54:07.666715",
     "exception": false,
     "start_time": "2022-05-05T17:54:07.655222",
     "status": "completed"
    },
    "tags": []
   },
   "source": [
    "# The Convolutional Classifier #\n",
    "\n",
    "A convnet used for image classification consists of two parts: a **convolutional base** and a **dense head**.\n",
    "\n",
    "<center>\n",
    "<!-- <img src=\"./images/1-parts-of-a-convnet.png\" width=\"600\" alt=\"The parts of a convnet: image, base, head, class; input, extract, classify, output.\">-->\n",
    "<img src=\"https://i.imgur.com/U0n5xjU.png\" width=\"600\" alt=\"The parts of a convnet: image, base, head, class; input, extract, classify, output.\">\n",
    "</center>\n",
    "\n",
    "The base is used to **extract the features** from an image. It is formed primarily of layers performing the convolution operation, but often includes other kinds of layers as well. (You'll learn about these in the next lesson.)\n",
    "\n",
    "The head is used to **determine the class** of the image. It is formed primarily of dense layers, but might include other layers like dropout. \n",
    "\n",
    "What do we mean by visual feature? A feature could be a line, a color, a texture, a shape, a pattern -- or some complicated combination.\n",
    "\n",
    "The whole process goes something like this:\n",
    "\n",
    "<center>\n",
    "<!-- <img src=\"./images/1-extract-classify.png\" width=\"600\" alt=\"The idea of feature extraction.\"> -->\n",
    "<img src=\"https://i.imgur.com/UUAafkn.png\" width=\"600\" alt=\"The idea of feature extraction.\">\n",
    "</center>\n",
    "\n",
    "The features actually extracted look a bit different, but it gives the idea."
   ]
  },
  {
   "cell_type": "markdown",
   "id": "d6941c9a",
   "metadata": {
    "papermill": {
     "duration": 0.011494,
     "end_time": "2022-05-05T17:54:07.690010",
     "exception": false,
     "start_time": "2022-05-05T17:54:07.678516",
     "status": "completed"
    },
    "tags": []
   },
   "source": [
    "# Training the Classifier #\n",
    "\n",
    "The goal of the network during training is to learn two things:\n",
    "1. which features to extract from an image (base),\n",
    "2. which class goes with what features (head).\n",
    "\n",
    "These days, convnets are rarely trained from scratch. More often, we **reuse the base of a pretrained model**. To the pretrained base we then **attach an untrained head**. In other words, we reuse the part of a network that has already learned to do *1. Extract features*, and attach to it some fresh layers to learn *2. Classify*.\n",
    "\n",
    "<center>\n",
    "<!-- <img src=\"./images/1-attach-head-to-base.png\" width=\"400\" alt=\"Attaching a new head to a trained base.\"> -->\n",
    "<img src=\"https://imgur.com/E49fsmV.png\" width=\"400\" alt=\"Attaching a new head to a trained base.\">\n",
    "</center>\n",
    "\n",
    "Because the head usually consists of only a few dense layers, very accurate classifiers can be created from relatively little data. \n",
    "\n",
    "Reusing a pretrained model is a technique known as **transfer learning**. It is so effective, that almost every image classifier these days will make use of it."
   ]
  },
  {
   "cell_type": "markdown",
   "id": "c6ad0b2a",
   "metadata": {
    "papermill": {
     "duration": 0.011613,
     "end_time": "2022-05-05T17:54:07.713489",
     "exception": false,
     "start_time": "2022-05-05T17:54:07.701876",
     "status": "completed"
    },
    "tags": []
   },
   "source": [
    "# Example - Train a Convnet Classifier #\n",
    "\n",
    "Throughout this course, we're going to be creating classifiers that attempt to solve the following problem: is this a picture of a *Car* or of a *Truck*? Our dataset is about 10,000 pictures of various automobiles, around half cars and half trucks."
   ]
  },
  {
   "cell_type": "markdown",
   "id": "37ece1bb",
   "metadata": {
    "papermill": {
     "duration": 0.011598,
     "end_time": "2022-05-05T17:54:07.736966",
     "exception": false,
     "start_time": "2022-05-05T17:54:07.725368",
     "status": "completed"
    },
    "tags": []
   },
   "source": [
    "## Step 1 - Load Data ##\n",
    "\n",
    "This next hidden cell will import some libraries and set up our data pipeline. We have a training split called `ds_train` and a validation split called `ds_valid`."
   ]
  },
  {
   "cell_type": "code",
   "execution_count": 1,
   "id": "161afb03",
   "metadata": {
    "_kg_hide-input": true,
    "execution": {
     "iopub.execute_input": "2022-05-05T17:54:07.762126Z",
     "iopub.status.busy": "2022-05-05T17:54:07.761722Z",
     "iopub.status.idle": "2022-05-05T17:54:17.502881Z",
     "shell.execute_reply": "2022-05-05T17:54:17.502142Z"
    },
    "papermill": {
     "duration": 9.756261,
     "end_time": "2022-05-05T17:54:17.504948",
     "exception": false,
     "start_time": "2022-05-05T17:54:07.748687",
     "status": "completed"
    },
    "tags": []
   },
   "outputs": [
    {
     "name": "stdout",
     "output_type": "stream",
     "text": [
      "Found 5117 files belonging to 2 classes.\n"
     ]
    },
    {
     "name": "stderr",
     "output_type": "stream",
     "text": [
      "2022-05-05 17:54:13.952906: I tensorflow/stream_executor/cuda/cuda_gpu_executor.cc:937] successful NUMA node read from SysFS had negative value (-1), but there must be at least one NUMA node, so returning NUMA node zero\n",
      "2022-05-05 17:54:14.033232: I tensorflow/stream_executor/cuda/cuda_gpu_executor.cc:937] successful NUMA node read from SysFS had negative value (-1), but there must be at least one NUMA node, so returning NUMA node zero\n",
      "2022-05-05 17:54:14.034041: I tensorflow/stream_executor/cuda/cuda_gpu_executor.cc:937] successful NUMA node read from SysFS had negative value (-1), but there must be at least one NUMA node, so returning NUMA node zero\n",
      "2022-05-05 17:54:14.041396: I tensorflow/core/platform/cpu_feature_guard.cc:142] This TensorFlow binary is optimized with oneAPI Deep Neural Network Library (oneDNN) to use the following CPU instructions in performance-critical operations:  AVX2 AVX512F FMA\n",
      "To enable them in other operations, rebuild TensorFlow with the appropriate compiler flags.\n",
      "2022-05-05 17:54:14.041668: I tensorflow/stream_executor/cuda/cuda_gpu_executor.cc:937] successful NUMA node read from SysFS had negative value (-1), but there must be at least one NUMA node, so returning NUMA node zero\n",
      "2022-05-05 17:54:14.042376: I tensorflow/stream_executor/cuda/cuda_gpu_executor.cc:937] successful NUMA node read from SysFS had negative value (-1), but there must be at least one NUMA node, so returning NUMA node zero\n",
      "2022-05-05 17:54:14.043013: I tensorflow/stream_executor/cuda/cuda_gpu_executor.cc:937] successful NUMA node read from SysFS had negative value (-1), but there must be at least one NUMA node, so returning NUMA node zero\n",
      "2022-05-05 17:54:15.665773: I tensorflow/stream_executor/cuda/cuda_gpu_executor.cc:937] successful NUMA node read from SysFS had negative value (-1), but there must be at least one NUMA node, so returning NUMA node zero\n",
      "2022-05-05 17:54:15.666710: I tensorflow/stream_executor/cuda/cuda_gpu_executor.cc:937] successful NUMA node read from SysFS had negative value (-1), but there must be at least one NUMA node, so returning NUMA node zero\n",
      "2022-05-05 17:54:15.667391: I tensorflow/stream_executor/cuda/cuda_gpu_executor.cc:937] successful NUMA node read from SysFS had negative value (-1), but there must be at least one NUMA node, so returning NUMA node zero\n",
      "2022-05-05 17:54:15.668731: I tensorflow/core/common_runtime/gpu/gpu_device.cc:1510] Created device /job:localhost/replica:0/task:0/device:GPU:0 with 15403 MB memory:  -> device: 0, name: Tesla P100-PCIE-16GB, pci bus id: 0000:00:04.0, compute capability: 6.0\n"
     ]
    },
    {
     "name": "stdout",
     "output_type": "stream",
     "text": [
      "Found 5051 files belonging to 2 classes.\n"
     ]
    }
   ],
   "source": [
    "\n",
    "# Imports\n",
    "import os, warnings\n",
    "import matplotlib.pyplot as plt\n",
    "from matplotlib import gridspec\n",
    "\n",
    "import numpy as np\n",
    "import tensorflow as tf\n",
    "from tensorflow.keras.preprocessing import image_dataset_from_directory\n",
    "\n",
    "# Reproducability\n",
    "def set_seed(seed=31415):\n",
    "    np.random.seed(seed)\n",
    "    tf.random.set_seed(seed)\n",
    "    os.environ['PYTHONHASHSEED'] = str(seed)\n",
    "    os.environ['TF_DETERMINISTIC_OPS'] = '1'\n",
    "set_seed(31415)\n",
    "\n",
    "# Set Matplotlib defaults\n",
    "plt.rc('figure', autolayout=True)\n",
    "plt.rc('axes', labelweight='bold', labelsize='large',\n",
    "       titleweight='bold', titlesize=18, titlepad=10)\n",
    "plt.rc('image', cmap='magma')\n",
    "warnings.filterwarnings(\"ignore\") # to clean up output cells\n",
    "\n",
    "\n",
    "# Load training and validation sets\n",
    "ds_train_ = image_dataset_from_directory(\n",
    "    '../input/car-or-truck/train',\n",
    "    labels='inferred',\n",
    "    label_mode='binary',\n",
    "    image_size=[128, 128],\n",
    "    interpolation='nearest',\n",
    "    batch_size=64,\n",
    "    shuffle=True,\n",
    ")\n",
    "ds_valid_ = image_dataset_from_directory(\n",
    "    '../input/car-or-truck/valid',\n",
    "    labels='inferred',\n",
    "    label_mode='binary',\n",
    "    image_size=[128, 128],\n",
    "    interpolation='nearest',\n",
    "    batch_size=64,\n",
    "    shuffle=False,\n",
    ")\n",
    "\n",
    "# Data Pipeline\n",
    "def convert_to_float(image, label):\n",
    "    image = tf.image.convert_image_dtype(image, dtype=tf.float32)\n",
    "    return image, label\n",
    "\n",
    "AUTOTUNE = tf.data.experimental.AUTOTUNE\n",
    "ds_train = (\n",
    "    ds_train_\n",
    "    .map(convert_to_float)\n",
    "    .cache()\n",
    "    .prefetch(buffer_size=AUTOTUNE)\n",
    ")\n",
    "ds_valid = (\n",
    "    ds_valid_\n",
    "    .map(convert_to_float)\n",
    "    .cache()\n",
    "    .prefetch(buffer_size=AUTOTUNE)\n",
    ")\n"
   ]
  },
  {
   "cell_type": "markdown",
   "id": "44dbb16d",
   "metadata": {
    "papermill": {
     "duration": 0.013488,
     "end_time": "2022-05-05T17:54:17.532215",
     "exception": false,
     "start_time": "2022-05-05T17:54:17.518727",
     "status": "completed"
    },
    "tags": []
   },
   "source": [
    "Let's take a look at a few examples from the training set."
   ]
  },
  {
   "cell_type": "code",
   "execution_count": 2,
   "id": "8c0e7e85",
   "metadata": {
    "_kg_hide-input": true,
    "execution": {
     "iopub.execute_input": "2022-05-05T17:54:17.561839Z",
     "iopub.status.busy": "2022-05-05T17:54:17.561258Z",
     "iopub.status.idle": "2022-05-05T17:54:17.565227Z",
     "shell.execute_reply": "2022-05-05T17:54:17.564464Z"
    },
    "papermill": {
     "duration": 0.020248,
     "end_time": "2022-05-05T17:54:17.567142",
     "exception": false,
     "start_time": "2022-05-05T17:54:17.546894",
     "status": "completed"
    },
    "tags": []
   },
   "outputs": [],
   "source": [
    "\n",
    "import matplotlib.pyplot as plt"
   ]
  },
  {
   "cell_type": "markdown",
   "id": "b91b31a5",
   "metadata": {
    "papermill": {
     "duration": 0.015137,
     "end_time": "2022-05-05T17:54:17.597634",
     "exception": false,
     "start_time": "2022-05-05T17:54:17.582497",
     "status": "completed"
    },
    "tags": []
   },
   "source": [
    "## Step 2 - Define Pretrained Base ##\n",
    "\n",
    "The most commonly used dataset for pretraining is [*ImageNet*](http://image-net.org/about-overview), a large dataset of many kind of natural images. Keras includes a variety models pretrained on ImageNet in its [`applications` module](https://www.tensorflow.org/api_docs/python/tf/keras/applications). The pretrained model we'll use is called **VGG16**."
   ]
  },
  {
   "cell_type": "code",
   "execution_count": 3,
   "id": "1c4e27e6",
   "metadata": {
    "execution": {
     "iopub.execute_input": "2022-05-05T17:54:17.628868Z",
     "iopub.status.busy": "2022-05-05T17:54:17.628167Z",
     "iopub.status.idle": "2022-05-05T17:54:20.425519Z",
     "shell.execute_reply": "2022-05-05T17:54:20.424619Z"
    },
    "papermill": {
     "duration": 2.814501,
     "end_time": "2022-05-05T17:54:20.427653",
     "exception": false,
     "start_time": "2022-05-05T17:54:17.613152",
     "status": "completed"
    },
    "tags": []
   },
   "outputs": [],
   "source": [
    "pretrained_base = tf.keras.models.load_model(\n",
    "    '../input/cv-course-models/cv-course-models/vgg16-pretrained-base',\n",
    ")\n",
    "pretrained_base.trainable = False"
   ]
  },
  {
   "cell_type": "markdown",
   "id": "19cc7b6d",
   "metadata": {
    "papermill": {
     "duration": 0.013084,
     "end_time": "2022-05-05T17:54:20.454458",
     "exception": false,
     "start_time": "2022-05-05T17:54:20.441374",
     "status": "completed"
    },
    "tags": []
   },
   "source": [
    "## Step 3 - Attach Head ##\n",
    "\n",
    "Next, we attach the classifier head. For this example, we'll use a layer of hidden units (the first `Dense` layer) followed by a layer to transform the outputs to a probability score for class 1, `Truck`. The `Flatten` layer transforms the two dimensional outputs of the base into the one dimensional inputs needed by the head."
   ]
  },
  {
   "cell_type": "code",
   "execution_count": 4,
   "id": "6f0c2377",
   "metadata": {
    "execution": {
     "iopub.execute_input": "2022-05-05T17:54:20.482270Z",
     "iopub.status.busy": "2022-05-05T17:54:20.481667Z",
     "iopub.status.idle": "2022-05-05T17:54:20.546291Z",
     "shell.execute_reply": "2022-05-05T17:54:20.545569Z"
    },
    "papermill": {
     "duration": 0.080707,
     "end_time": "2022-05-05T17:54:20.548325",
     "exception": false,
     "start_time": "2022-05-05T17:54:20.467618",
     "status": "completed"
    },
    "tags": []
   },
   "outputs": [],
   "source": [
    "from tensorflow import keras\n",
    "from tensorflow.keras import layers\n",
    "\n",
    "model = keras.Sequential([\n",
    "    pretrained_base,\n",
    "    layers.Flatten(),\n",
    "    layers.Dense(6, activation='relu'),\n",
    "    layers.Dense(1, activation='sigmoid'),\n",
    "])"
   ]
  },
  {
   "cell_type": "markdown",
   "id": "6187a024",
   "metadata": {
    "papermill": {
     "duration": 0.013122,
     "end_time": "2022-05-05T17:54:20.575148",
     "exception": false,
     "start_time": "2022-05-05T17:54:20.562026",
     "status": "completed"
    },
    "tags": []
   },
   "source": [
    "## Step 4 - Train ##\n",
    "\n",
    "Finally, let's train the model. Since this is a two-class problem, we'll use the binary versions of `crossentropy` and `accuracy`. The `adam` optimizer generally performs well, so we'll choose it as well."
   ]
  },
  {
   "cell_type": "code",
   "execution_count": 5,
   "id": "834e30a6",
   "metadata": {
    "execution": {
     "iopub.execute_input": "2022-05-05T17:54:20.602858Z",
     "iopub.status.busy": "2022-05-05T17:54:20.602654Z",
     "iopub.status.idle": "2022-05-05T17:59:16.578374Z",
     "shell.execute_reply": "2022-05-05T17:59:16.577578Z"
    },
    "papermill": {
     "duration": 295.992528,
     "end_time": "2022-05-05T17:59:16.580972",
     "exception": false,
     "start_time": "2022-05-05T17:54:20.588444",
     "status": "completed"
    },
    "tags": []
   },
   "outputs": [
    {
     "name": "stderr",
     "output_type": "stream",
     "text": [
      "2022-05-05 17:54:20.644131: I tensorflow/compiler/mlir/mlir_graph_optimization_pass.cc:185] None of the MLIR Optimization Passes are enabled (registered 2)\n",
      "2022-05-05 17:54:23.562053: I tensorflow/stream_executor/cuda/cuda_dnn.cc:369] Loaded cuDNN version 8005\n"
     ]
    }
   ],
   "source": [
    "model.compile(\n",
    "    optimizer='adam',\n",
    "    loss='binary_crossentropy',\n",
    "    metrics=['binary_accuracy'],\n",
    ")\n",
    "\n",
    "history = model.fit(\n",
    "    ds_train,\n",
    "    validation_data=ds_valid,\n",
    "    epochs=30,\n",
    "    verbose=0,\n",
    ")"
   ]
  },
  {
   "cell_type": "markdown",
   "id": "d5c66964",
   "metadata": {
    "papermill": {
     "duration": 0.013894,
     "end_time": "2022-05-05T17:59:16.609577",
     "exception": false,
     "start_time": "2022-05-05T17:59:16.595683",
     "status": "completed"
    },
    "tags": []
   },
   "source": [
    "When training a neural network, it's always a good idea to examine the loss and metric plots. The `history` object contains this information in a dictionary `history.history`. We can use Pandas to convert this dictionary to a dataframe and plot it with a built-in method."
   ]
  },
  {
   "cell_type": "code",
   "execution_count": 6,
   "id": "ab2d0b15",
   "metadata": {
    "execution": {
     "iopub.execute_input": "2022-05-05T17:59:16.638976Z",
     "iopub.status.busy": "2022-05-05T17:59:16.638735Z",
     "iopub.status.idle": "2022-05-05T17:59:17.140036Z",
     "shell.execute_reply": "2022-05-05T17:59:17.139289Z"
    },
    "papermill": {
     "duration": 0.51823,
     "end_time": "2022-05-05T17:59:17.141934",
     "exception": false,
     "start_time": "2022-05-05T17:59:16.623704",
     "status": "completed"
    },
    "tags": []
   },
   "outputs": [
    {
     "data": {
      "image/png": "[encoded data removed]",
      "text/plain": [
       "<Figure size 432x288 with 1 Axes>"
      ]
     },
     "metadata": {
      "needs_background": "light"
     },
     "output_type": "display_data"
    },
    {
     "data": {
      "image/png": "[encoded data removed]",
      "text/plain": [
       "<Figure size 432x288 with 1 Axes>"
      ]
     },
     "metadata": {
      "needs_background": "light"
     },
     "output_type": "display_data"
    }
   ],
   "source": [
    "import pandas as pd\n",
    "\n",
    "history_frame = pd.DataFrame(history.history)\n",
    "history_frame.loc[:, ['loss', 'val_loss']].plot()\n",
    "history_frame.loc[:, ['binary_accuracy', 'val_binary_accuracy']].plot();"
   ]
  },
  {
   "cell_type": "markdown",
   "id": "1b2b2ccc",
   "metadata": {
    "papermill": {
     "duration": 0.016448,
     "end_time": "2022-05-05T17:59:17.174938",
     "exception": false,
     "start_time": "2022-05-05T17:59:17.158490",
     "status": "completed"
    },
    "tags": []
   },
   "source": [
    "# Conclusion #\n",
    "\n",
    "In this lesson, we learned about the structure of a convnet classifier: a **head** to act as a classifier atop of a **base** which performs the feature extraction.\n",
    "\n",
    "The head, essentially, is an ordinary classifier like you learned about in the introductory course. For features, it uses those features extracted by the base. This is the basic idea behind convolutional classifiers: that we can attach a unit that performs feature engineering to the classifier itself.\n",
    "\n",
    "This is one of the big advantages deep neural networks have over traditional machine learning models: given the right network structure, the deep neural net can learn how to engineer the features it needs to solve its problem.\n",
    "\n",
    "For the next few lessons, we'll take a look at how the convolutional base accomplishes the feature extraction. Then, you'll learn how to apply these ideas and design some classifiers of your own."
   ]
  },
  {
   "cell_type": "markdown",
   "id": "e8c3d6af",
   "metadata": {
    "papermill": {
     "duration": 0.016355,
     "end_time": "2022-05-05T17:59:17.207527",
     "exception": false,
     "start_time": "2022-05-05T17:59:17.191172",
     "status": "completed"
    },
    "tags": []
   },
   "source": [
    "# Your Turn #\n",
    "\n",
    "For now, move on to the [**Exercise**](https://www.kaggle.com/kernels/fork/10781907) and build your own image classifier!"
   ]
  },
  {
   "cell_type": "markdown",
   "id": "cec10bce",
   "metadata": {
    "papermill": {
     "duration": 0.015891,
     "end_time": "2022-05-05T17:59:17.239648",
     "exception": false,
     "start_time": "2022-05-05T17:59:17.223757",
     "status": "completed"
    },
    "tags": []
   },
   "source": [
    "---\n",
    "\n",
    "\n",
    "\n",
    "\n",
    "*Have questions or comments? Visit the [course discussion forum](https://www.kaggle.com/learn/computer-vision/discussion) to chat with other learners.*"
   ]
  }
 ],
 "metadata": {
  "jupytext": {
   "formats": "ipynb,md",
   "split_at_heading": true
  },
  "kernelspec": {
   "display_name": "Python 3 (ipykernel)",
   "language": "python",
   "name": "python3"
  },
  "language_info": {
   "codemirror_mode": {
    "name": "ipython",
    "version": 3
   },
   "file_extension": ".py",
   "mimetype": "text/x-python",
   "name": "python",
   "nbconvert_exporter": "python",
   "pygments_lexer": "ipython3",
   "version": "3.9.12"
  },
  "papermill": {
   "default_parameters": {},
   "duration": 320.308479,
   "end_time": "2022-05-05T17:59:20.051859",
   "environment_variables": {},
   "exception": null,
   "input_path": "__notebook__.ipynb",
   "output_path": "__notebook__.ipynb",
   "parameters": {},
   "start_time": "2022-05-05T17:53:59.743380",
   "version": "2.3.4"
  }
 },
 "nbformat": 4,
 "nbformat_minor": 5
}
