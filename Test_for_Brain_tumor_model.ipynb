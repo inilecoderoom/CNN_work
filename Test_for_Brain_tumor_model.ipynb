{
 "cells": [
  {
   "cell_type": "markdown",
   "id": "5e3523cb",
   "metadata": {},
   "source": [
    "### Testing the created CNN model"
   ]
  },
  {
   "cell_type": "code",
   "execution_count": 68,
   "id": "9f2cc79b",
   "metadata": {},
   "outputs": [],
   "source": [
    "import cv2 as cv\n",
    "from keras.models import load_model"
   ]
  },
  {
   "cell_type": "code",
   "execution_count": 69,
   "id": "e4a94fe2",
   "metadata": {},
   "outputs": [],
   "source": [
    "import numpy as np"
   ]
  },
  {
   "cell_type": "code",
   "execution_count": 70,
   "id": "e36ead78",
   "metadata": {},
   "outputs": [],
   "source": [
    "model = load_model(\"BrainTumor_10Epochs.h5\")\n",
    "\n",
    "model_categorical = load_model(\"BrainTumor_10Epochs_categorial.h5\")"
   ]
  },
  {
   "cell_type": "code",
   "execution_count": 71,
   "id": "7a8127e2",
   "metadata": {},
   "outputs": [],
   "source": [
    "# brain_tumor_prediction_images\n",
    "imageP = cv.imread(r'E:\\CNN\\brain_tumor_detection_CNN\\brain_tumor_prediction_images\\pred51.jpg', 1)\n",
    "\n",
    "# imgP = Image.fromarray(imageP)\n",
    "\n",
    "imgP = cv.resize(imageP, (64,64))\n",
    "\n",
    "img = np.array(imgP)\n",
    "\n",
    "# print(img)"
   ]
  },
  {
   "cell_type": "code",
   "execution_count": 72,
   "id": "8296d23c",
   "metadata": {},
   "outputs": [],
   "source": [
    "input_img = np.expand_dims(img, axis = 0)"
   ]
  },
  {
   "cell_type": "code",
   "execution_count": 73,
   "id": "584ec4c4",
   "metadata": {},
   "outputs": [
    {
     "name": "stdout",
     "output_type": "stream",
     "text": [
      "1/1 [==============================] - 0s 118ms/step\n",
      "1/1 [==============================] - 0s 113ms/step\n",
      "[[0.]]\n",
      "[[1. 0.]]\n"
     ]
    }
   ],
   "source": [
    "result = model.predict(input_img)\n",
    "result_c = model_categorical.predict(input_img)\n",
    "\n",
    "print(result)\n",
    "print(result_c)"
   ]
  },
  {
   "cell_type": "code",
   "execution_count": null,
   "id": "3cb1d922",
   "metadata": {},
   "outputs": [],
   "source": []
  }
 ],
 "metadata": {
  "kernelspec": {
   "display_name": "Python 3 (ipykernel)",
   "language": "python",
   "name": "python3"
  },
  "language_info": {
   "codemirror_mode": {
    "name": "ipython",
    "version": 3
   },
   "file_extension": ".py",
   "mimetype": "text/x-python",
   "name": "python",
   "nbconvert_exporter": "python",
   "pygments_lexer": "ipython3",
   "version": "3.9.12"
  }
 },
 "nbformat": 4,
 "nbformat_minor": 5
}
